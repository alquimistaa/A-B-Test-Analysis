{
 "cells": [
  {
   "cell_type": "code",
   "execution_count": 9,
   "id": "50a01864",
   "metadata": {},
   "outputs": [
    {
     "name": "stdout",
     "output_type": "stream",
     "text": [
      "Requirement already satisfied: duckdb in /opt/anaconda3/lib/python3.12/site-packages (1.2.2)\n"
     ]
    }
   ],
   "source": [
    "! pip install duckdb"
   ]
  },
  {
   "cell_type": "markdown",
   "id": "eb59274a",
   "metadata": {},
   "source": [
    "- Grup A: Kontrol grubu \n",
    "- Grup B: Her seviyede +3 hamle\n",
    "- Grup C: Her seviyede -3 hamle"
   ]
  },
  {
   "cell_type": "code",
   "execution_count": 72,
   "id": "5f0716cc",
   "metadata": {},
   "outputs": [],
   "source": [
    "import duckdb #SQL'i python'a entegre etmek için kullanıyorum.\n",
    "import pandas as pd\n",
    "import seaborn as sns\n",
    "import matplotlib.pyplot as plt\n"
   ]
  },
  {
   "cell_type": "markdown",
   "id": "b2d5de75",
   "metadata": {},
   "source": [
    "Önce her bir tabloya hızlıca göz atalım:"
   ]
  },
  {
   "cell_type": "code",
   "execution_count": 11,
   "id": "37ed6cf1",
   "metadata": {},
   "outputs": [
    {
     "data": {
      "text/plain": [
       "┌─────────┬────────────────────────────┐\n",
       "│ user_id │        install_time        │\n",
       "│  int64  │         timestamp          │\n",
       "├─────────┼────────────────────────────┤\n",
       "│       1 │ 2022-10-27 10:07:57.347003 │\n",
       "│       2 │ 2022-10-27 14:44:46.518055 │\n",
       "│       3 │ 2022-10-27 06:12:58.710009 │\n",
       "│       4 │ 2022-10-27 11:06:12.127003 │\n",
       "│       5 │ 2022-10-19 21:59:16.415    │\n",
       "└─────────┴────────────────────────────┘"
      ]
     },
     "execution_count": 11,
     "metadata": {},
     "output_type": "execute_result"
    }
   ],
   "source": [
    "duckdb.query(\"SELECT * FROM Install.csv limit 5\")"
   ]
  },
  {
   "cell_type": "code",
   "execution_count": 12,
   "id": "458c17b7",
   "metadata": {},
   "outputs": [
    {
     "data": {
      "text/plain": [
       "┌─────────┬──────────┐\n",
       "│ user_id │ ab_group │\n",
       "│  int64  │ varchar  │\n",
       "├─────────┼──────────┤\n",
       "│   12792 │ A        │\n",
       "│    7922 │ A        │\n",
       "│    7044 │ A        │\n",
       "│    8160 │ A        │\n",
       "│    3518 │ A        │\n",
       "└─────────┴──────────┘"
      ]
     },
     "execution_count": 12,
     "metadata": {},
     "output_type": "execute_result"
    }
   ],
   "source": [
    "duckdb.query(\"SELECT * FROM AbEnter.csv limit 5\")"
   ]
  },
  {
   "cell_type": "code",
   "execution_count": 13,
   "id": "b74ab2ec",
   "metadata": {},
   "outputs": [
    {
     "data": {
      "text/plain": [
       "┌─────────┬───────┬───────────┬───────┬────────────────────────────┐\n",
       "│ user_id │ level │ try_count │ coin  │            time            │\n",
       "│  int64  │ int64 │   int64   │ int64 │         timestamp          │\n",
       "├─────────┼───────┼───────────┼───────┼────────────────────────────┤\n",
       "│    5653 │   119 │        60 │   230 │ 2023-01-17 01:55:41.427053 │\n",
       "│    5653 │   119 │        61 │   230 │ 2023-01-17 01:56:56.531065 │\n",
       "│    5653 │   119 │        51 │   230 │ 2023-01-17 01:44:53.83703  │\n",
       "│    5653 │   124 │        33 │   330 │ 2023-01-19 16:16:48.850017 │\n",
       "│    5653 │   124 │        29 │   330 │ 2023-01-19 16:13:01.390017 │\n",
       "└─────────┴───────┴───────────┴───────┴────────────────────────────┘"
      ]
     },
     "execution_count": 13,
     "metadata": {},
     "output_type": "execute_result"
    }
   ],
   "source": [
    "duckdb.query(\"SELECT * FROM LevelStart.csv limit 5\")"
   ]
  },
  {
   "cell_type": "code",
   "execution_count": 14,
   "id": "0cbfc7dd",
   "metadata": {},
   "outputs": [
    {
     "data": {
      "text/plain": [
       "┌─────────┬───────┬───────────┬─────────┬────────────────────────────┐\n",
       "│ user_id │ level │ try_count │ status  │            time            │\n",
       "│  int64  │ int64 │   int64   │ varchar │         timestamp          │\n",
       "├─────────┼───────┼───────────┼─────────┼────────────────────────────┤\n",
       "│    5653 │   123 │        19 │ Failure │ 2023-01-18 22:02:33.492023 │\n",
       "│    5653 │   123 │        22 │ Failure │ 2023-01-19 01:23:09.836029 │\n",
       "│    5653 │   123 │        25 │ Failure │ 2023-01-19 05:47:56.653016 │\n",
       "│    5653 │   123 │        26 │ Failure │ 2023-01-19 05:49:40.038028 │\n",
       "│    5653 │   123 │        21 │ Failure │ 2023-01-19 01:21:17.672015 │\n",
       "└─────────┴───────┴───────────┴─────────┴────────────────────────────┘"
      ]
     },
     "execution_count": 14,
     "metadata": {},
     "output_type": "execute_result"
    }
   ],
   "source": [
    "duckdb.query(\"SELECT * FROM LevelEnd.csv limit 5\")"
   ]
  },
  {
   "cell_type": "code",
   "execution_count": 15,
   "id": "202de3e8",
   "metadata": {},
   "outputs": [
    {
     "data": {
      "text/plain": [
       "┌─────────┬─────────────┬────────────────────────────┬────────────┬───────┐\n",
       "│ user_id │ session_num │            time            │ time_spent │ level │\n",
       "│  int64  │   double    │         timestamp          │   int64    │ int64 │\n",
       "├─────────┼─────────────┼────────────────────────────┼────────────┼───────┤\n",
       "│    7368 │        25.0 │ 2022-10-21 08:11:43.43706  │         30 │   174 │\n",
       "│    7368 │        25.0 │ 2022-10-21 07:47:22.54801  │          4 │   168 │\n",
       "│    7368 │        25.0 │ 2022-10-21 08:04:24.77108  │         30 │   173 │\n",
       "│    7368 │        25.0 │ 2022-10-21 07:59:54.611068 │         30 │   170 │\n",
       "│    8367 │        33.0 │ 2022-10-21 23:10:20.63102  │         30 │   194 │\n",
       "└─────────┴─────────────┴────────────────────────────┴────────────┴───────┘"
      ]
     },
     "execution_count": 15,
     "metadata": {},
     "output_type": "execute_result"
    }
   ],
   "source": [
    "duckdb.query(\"SELECT * FROM Session.csv limit 5\")"
   ]
  },
  {
   "cell_type": "code",
   "execution_count": 16,
   "id": "8a1527c9",
   "metadata": {},
   "outputs": [
    {
     "data": {
      "text/plain": [
       "┌─────────┬───────┬───────────┬─────────┬───────────────────┐\n",
       "│ user_id │ level │ try_count │  item   │ spend_coin_amount │\n",
       "│  int64  │ int64 │   int64   │ varchar │       int64       │\n",
       "├─────────┼───────┼───────────┼─────────┼───────────────────┤\n",
       "│    8275 │    85 │        12 │ Ego     │               900 │\n",
       "│   12861 │    57 │         2 │ Ego     │               900 │\n",
       "│    2459 │    76 │         2 │ Ego     │               900 │\n",
       "│    8656 │   109 │         1 │ Booster │               500 │\n",
       "│    5653 │    65 │         6 │ Ego     │               900 │\n",
       "└─────────┴───────┴───────────┴─────────┴───────────────────┘"
      ]
     },
     "execution_count": 16,
     "metadata": {},
     "output_type": "execute_result"
    }
   ],
   "source": [
    "duckdb.query(\"SELECT * FROM CoinSpend.csv limit 5\")"
   ]
  },
  {
   "cell_type": "code",
   "execution_count": null,
   "id": "3270f0cb",
   "metadata": {},
   "outputs": [],
   "source": [
    "#user id üzerinden install ve A-B-C grubu birleşmesi\n",
    "\n",
    "ab_df=duckdb.query(\"\"\"\n",
    "    SELECT i.user_id, i.install_time, a.ab_group\n",
    "    FROM 'Install.csv' i\n",
    "    LEFT JOIN 'AbEnter.csv' a\n",
    "    ON i.user_id = a.user_id\n",
    "\"\"\").df()\n"
   ]
  },
  {
   "cell_type": "code",
   "execution_count": 19,
   "id": "321ef157",
   "metadata": {},
   "outputs": [
    {
     "data": {
      "text/plain": [
       "ab_group\n",
       "B    4473\n",
       "A    4441\n",
       "C    4409\n",
       "Name: count, dtype: int64"
      ]
     },
     "execution_count": 19,
     "metadata": {},
     "output_type": "execute_result"
    }
   ],
   "source": [
    "# Her grupta kaçar kişi var:\n",
    "\n",
    "ab_df[\"ab_group\"].value_counts()"
   ]
  },
  {
   "cell_type": "code",
   "execution_count": 19,
   "id": "27e19c90",
   "metadata": {},
   "outputs": [
    {
     "data": {
      "text/html": [
       "<div>\n",
       "<style scoped>\n",
       "    .dataframe tbody tr th:only-of-type {\n",
       "        vertical-align: middle;\n",
       "    }\n",
       "\n",
       "    .dataframe tbody tr th {\n",
       "        vertical-align: top;\n",
       "    }\n",
       "\n",
       "    .dataframe thead th {\n",
       "        text-align: right;\n",
       "    }\n",
       "</style>\n",
       "<table border=\"1\" class=\"dataframe\">\n",
       "  <thead>\n",
       "    <tr style=\"text-align: right;\">\n",
       "      <th></th>\n",
       "      <th>user_id</th>\n",
       "      <th>install_time</th>\n",
       "      <th>ab_group</th>\n",
       "    </tr>\n",
       "  </thead>\n",
       "  <tbody>\n",
       "    <tr>\n",
       "      <th>0</th>\n",
       "      <td>1</td>\n",
       "      <td>2022-10-27 10:07:57.347003</td>\n",
       "      <td>B</td>\n",
       "    </tr>\n",
       "    <tr>\n",
       "      <th>1</th>\n",
       "      <td>2</td>\n",
       "      <td>2022-10-27 14:44:46.518055</td>\n",
       "      <td>B</td>\n",
       "    </tr>\n",
       "    <tr>\n",
       "      <th>2</th>\n",
       "      <td>3</td>\n",
       "      <td>2022-10-27 06:12:58.710009</td>\n",
       "      <td>A</td>\n",
       "    </tr>\n",
       "    <tr>\n",
       "      <th>3</th>\n",
       "      <td>4</td>\n",
       "      <td>2022-10-27 11:06:12.127003</td>\n",
       "      <td>B</td>\n",
       "    </tr>\n",
       "    <tr>\n",
       "      <th>4</th>\n",
       "      <td>5</td>\n",
       "      <td>2022-10-19 21:59:16.415000</td>\n",
       "      <td>B</td>\n",
       "    </tr>\n",
       "  </tbody>\n",
       "</table>\n",
       "</div>"
      ],
      "text/plain": [
       "   user_id               install_time ab_group\n",
       "0        1 2022-10-27 10:07:57.347003        B\n",
       "1        2 2022-10-27 14:44:46.518055        B\n",
       "2        3 2022-10-27 06:12:58.710009        A\n",
       "3        4 2022-10-27 11:06:12.127003        B\n",
       "4        5 2022-10-19 21:59:16.415000        B"
      ]
     },
     "execution_count": 19,
     "metadata": {},
     "output_type": "execute_result"
    }
   ],
   "source": [
    "ab_df.head()"
   ]
  },
  {
   "cell_type": "code",
   "execution_count": null,
   "id": "b6fda3c9",
   "metadata": {},
   "outputs": [],
   "source": [
    "# LevelEnd tablosundaki level denemelerine ait başarı bilgisini, A-B-C gruplarına göre belirleyelim.\n",
    "level_success_df = duckdb.query(\"\"\"\n",
    "    SELECT le.user_id, le.level, le.try_count, le.status, a.ab_group\n",
    "    FROM 'LevelEnd.csv' le\n",
    "    JOIN ab_df a\n",
    "    ON le.user_id = a.user_id\n",
    "\"\"\").df()\n"
   ]
  },
  {
   "cell_type": "code",
   "execution_count": 35,
   "id": "662b2d63",
   "metadata": {},
   "outputs": [
    {
     "data": {
      "text/html": [
       "<div>\n",
       "<style scoped>\n",
       "    .dataframe tbody tr th:only-of-type {\n",
       "        vertical-align: middle;\n",
       "    }\n",
       "\n",
       "    .dataframe tbody tr th {\n",
       "        vertical-align: top;\n",
       "    }\n",
       "\n",
       "    .dataframe thead th {\n",
       "        text-align: right;\n",
       "    }\n",
       "</style>\n",
       "<table border=\"1\" class=\"dataframe\">\n",
       "  <thead>\n",
       "    <tr style=\"text-align: right;\">\n",
       "      <th></th>\n",
       "      <th>user_id</th>\n",
       "      <th>level</th>\n",
       "      <th>try_count</th>\n",
       "      <th>status</th>\n",
       "      <th>ab_group</th>\n",
       "    </tr>\n",
       "  </thead>\n",
       "  <tbody>\n",
       "    <tr>\n",
       "      <th>0</th>\n",
       "      <td>551</td>\n",
       "      <td>133</td>\n",
       "      <td>2</td>\n",
       "      <td>Success</td>\n",
       "      <td>A</td>\n",
       "    </tr>\n",
       "    <tr>\n",
       "      <th>1</th>\n",
       "      <td>6712</td>\n",
       "      <td>108</td>\n",
       "      <td>1</td>\n",
       "      <td>Success</td>\n",
       "      <td>B</td>\n",
       "    </tr>\n",
       "    <tr>\n",
       "      <th>2</th>\n",
       "      <td>6625</td>\n",
       "      <td>95</td>\n",
       "      <td>1</td>\n",
       "      <td>Success</td>\n",
       "      <td>A</td>\n",
       "    </tr>\n",
       "    <tr>\n",
       "      <th>3</th>\n",
       "      <td>6625</td>\n",
       "      <td>111</td>\n",
       "      <td>2</td>\n",
       "      <td>Success</td>\n",
       "      <td>A</td>\n",
       "    </tr>\n",
       "    <tr>\n",
       "      <th>4</th>\n",
       "      <td>13148</td>\n",
       "      <td>178</td>\n",
       "      <td>1</td>\n",
       "      <td>Failure</td>\n",
       "      <td>C</td>\n",
       "    </tr>\n",
       "    <tr>\n",
       "      <th>...</th>\n",
       "      <td>...</td>\n",
       "      <td>...</td>\n",
       "      <td>...</td>\n",
       "      <td>...</td>\n",
       "      <td>...</td>\n",
       "    </tr>\n",
       "    <tr>\n",
       "      <th>1027919</th>\n",
       "      <td>9356</td>\n",
       "      <td>30</td>\n",
       "      <td>1</td>\n",
       "      <td>Success</td>\n",
       "      <td>A</td>\n",
       "    </tr>\n",
       "    <tr>\n",
       "      <th>1027920</th>\n",
       "      <td>8971</td>\n",
       "      <td>30</td>\n",
       "      <td>1</td>\n",
       "      <td>Success</td>\n",
       "      <td>B</td>\n",
       "    </tr>\n",
       "    <tr>\n",
       "      <th>1027921</th>\n",
       "      <td>3980</td>\n",
       "      <td>30</td>\n",
       "      <td>1</td>\n",
       "      <td>Success</td>\n",
       "      <td>C</td>\n",
       "    </tr>\n",
       "    <tr>\n",
       "      <th>1027922</th>\n",
       "      <td>9330</td>\n",
       "      <td>30</td>\n",
       "      <td>1</td>\n",
       "      <td>Success</td>\n",
       "      <td>B</td>\n",
       "    </tr>\n",
       "    <tr>\n",
       "      <th>1027923</th>\n",
       "      <td>9752</td>\n",
       "      <td>30</td>\n",
       "      <td>1</td>\n",
       "      <td>Success</td>\n",
       "      <td>A</td>\n",
       "    </tr>\n",
       "  </tbody>\n",
       "</table>\n",
       "<p>1027924 rows × 5 columns</p>\n",
       "</div>"
      ],
      "text/plain": [
       "         user_id  level  try_count   status ab_group\n",
       "0            551    133          2  Success        A\n",
       "1           6712    108          1  Success        B\n",
       "2           6625     95          1  Success        A\n",
       "3           6625    111          2  Success        A\n",
       "4          13148    178          1  Failure        C\n",
       "...          ...    ...        ...      ...      ...\n",
       "1027919     9356     30          1  Success        A\n",
       "1027920     8971     30          1  Success        B\n",
       "1027921     3980     30          1  Success        C\n",
       "1027922     9330     30          1  Success        B\n",
       "1027923     9752     30          1  Success        A\n",
       "\n",
       "[1027924 rows x 5 columns]"
      ]
     },
     "execution_count": 35,
     "metadata": {},
     "output_type": "execute_result"
    }
   ],
   "source": [
    "level_success_df"
   ]
  },
  {
   "cell_type": "code",
   "execution_count": null,
   "id": "2213b752",
   "metadata": {},
   "outputs": [
    {
     "data": {
      "text/html": [
       "<div>\n",
       "<style scoped>\n",
       "    .dataframe tbody tr th:only-of-type {\n",
       "        vertical-align: middle;\n",
       "    }\n",
       "\n",
       "    .dataframe tbody tr th {\n",
       "        vertical-align: top;\n",
       "    }\n",
       "\n",
       "    .dataframe thead th {\n",
       "        text-align: right;\n",
       "    }\n",
       "</style>\n",
       "<table border=\"1\" class=\"dataframe\">\n",
       "  <thead>\n",
       "    <tr style=\"text-align: right;\">\n",
       "      <th></th>\n",
       "      <th>total_entries</th>\n",
       "      <th>ort_try_count</th>\n",
       "    </tr>\n",
       "    <tr>\n",
       "      <th>ab_group</th>\n",
       "      <th></th>\n",
       "      <th></th>\n",
       "    </tr>\n",
       "  </thead>\n",
       "  <tbody>\n",
       "    <tr>\n",
       "      <th>A</th>\n",
       "      <td>341321</td>\n",
       "      <td>1.400324</td>\n",
       "    </tr>\n",
       "    <tr>\n",
       "      <th>B</th>\n",
       "      <td>330707</td>\n",
       "      <td>1.203685</td>\n",
       "    </tr>\n",
       "    <tr>\n",
       "      <th>C</th>\n",
       "      <td>355896</td>\n",
       "      <td>2.171724</td>\n",
       "    </tr>\n",
       "  </tbody>\n",
       "</table>\n",
       "</div>"
      ],
      "text/plain": [
       "          total_entries  ort_try_count\n",
       "ab_group                              \n",
       "A                341321       1.400324\n",
       "B                330707       1.203685\n",
       "C                355896       2.171724"
      ]
     },
     "execution_count": 40,
     "metadata": {},
     "output_type": "execute_result"
    }
   ],
   "source": [
    "# ort. deneme sayısı \n",
    "ort_try_count = level_success_df.groupby(\"ab_group\")[\"try_count\"].agg(\n",
    "    total_entries=\"count\",\n",
    "    ort_try_count=\"mean\"\n",
    ")\n",
    "ort_try_count "
   ]
  },
  {
   "cell_type": "markdown",
   "id": "64be60d5",
   "metadata": {},
   "source": [
    "Ort. deneme sayısı -3 hamle grubu için artmış. B grubu için ise azalmış."
   ]
  },
  {
   "cell_type": "code",
   "execution_count": 78,
   "id": "2d75ab2d",
   "metadata": {},
   "outputs": [
    {
     "name": "stderr",
     "output_type": "stream",
     "text": [
      "/var/folders/k0/jmg45zjj0mb280sfvmx9fn8c0000gn/T/ipykernel_21842/2173633895.py:4: FutureWarning: \n",
      "\n",
      "Passing `palette` without assigning `hue` is deprecated and will be removed in v0.14.0. Assign the `x` variable to `hue` and set `legend=False` for the same effect.\n",
      "\n",
      "  sns.barplot(data=ort_try_count, x=\"ab_group\", y=\"ort_try_count\", palette=\"muted\")\n"
     ]
    },
    {
     "data": {
      "image/png": "[encoded data removed]",
      "text/plain": [
       "<Figure size 600x400 with 1 Axes>"
      ]
     },
     "metadata": {},
     "output_type": "display_data"
    }
   ],
   "source": [
    "ort_try_count.reset_index(inplace=True)\n",
    "\n",
    "plt.figure(figsize=(6,4))\n",
    "sns.barplot(data=ort_try_count, x=\"ab_group\", y=\"ort_try_count\", palette=\"muted\")\n",
    "plt.title(\"Gruplara göre ortalama deneme sayısı\")\n",
    "plt.ylabel(\"Ort. Try Count\")\n",
    "plt.grid(axis='y', linestyle='--', alpha=0.3)\n",
    "plt.show()\n"
   ]
  },
  {
   "cell_type": "code",
   "execution_count": null,
   "id": "65bb0cb0",
   "metadata": {},
   "outputs": [
    {
     "data": {
      "text/html": [
       "<div>\n",
       "<style scoped>\n",
       "    .dataframe tbody tr th:only-of-type {\n",
       "        vertical-align: middle;\n",
       "    }\n",
       "\n",
       "    .dataframe tbody tr th {\n",
       "        vertical-align: top;\n",
       "    }\n",
       "\n",
       "    .dataframe thead th {\n",
       "        text-align: right;\n",
       "    }\n",
       "</style>\n",
       "<table border=\"1\" class=\"dataframe\">\n",
       "  <thead>\n",
       "    <tr style=\"text-align: right;\">\n",
       "      <th></th>\n",
       "      <th>total_attempts</th>\n",
       "      <th>success_count</th>\n",
       "      <th>success_rate</th>\n",
       "    </tr>\n",
       "    <tr>\n",
       "      <th>ab_group</th>\n",
       "      <th></th>\n",
       "      <th></th>\n",
       "      <th></th>\n",
       "    </tr>\n",
       "  </thead>\n",
       "  <tbody>\n",
       "    <tr>\n",
       "      <th>A</th>\n",
       "      <td>341321</td>\n",
       "      <td>297484</td>\n",
       "      <td>0.871567</td>\n",
       "    </tr>\n",
       "    <tr>\n",
       "      <th>B</th>\n",
       "      <td>330707</td>\n",
       "      <td>308728</td>\n",
       "      <td>0.933539</td>\n",
       "    </tr>\n",
       "    <tr>\n",
       "      <th>C</th>\n",
       "      <td>355896</td>\n",
       "      <td>269382</td>\n",
       "      <td>0.756912</td>\n",
       "    </tr>\n",
       "  </tbody>\n",
       "</table>\n",
       "</div>"
      ],
      "text/plain": [
       "          total_attempts  success_count  success_rate\n",
       "ab_group                                             \n",
       "A                 341321         297484      0.871567\n",
       "B                 330707         308728      0.933539\n",
       "C                 355896         269382      0.756912"
      ]
     },
     "execution_count": 39,
     "metadata": {},
     "output_type": "execute_result"
    }
   ],
   "source": [
    "# başarı durumuna bakalım:\n",
    "success_stats = level_success_df.groupby(\"ab_group\")[\"status\"].agg(\n",
    "    total_attempts=\"count\",\n",
    "    success_count=lambda x: (x == \"Success\").sum()\n",
    ")\n",
    "success_stats[\"success_rate\"] = success_stats[\"success_count\"] / success_stats[\"total_attempts\"]\n",
    "success_stats"
   ]
  },
  {
   "cell_type": "code",
   "execution_count": 75,
   "id": "86eb859f",
   "metadata": {},
   "outputs": [
    {
     "name": "stderr",
     "output_type": "stream",
     "text": [
      "/var/folders/k0/jmg45zjj0mb280sfvmx9fn8c0000gn/T/ipykernel_21842/2512271446.py:6: FutureWarning: \n",
      "\n",
      "Passing `palette` without assigning `hue` is deprecated and will be removed in v0.14.0. Assign the `x` variable to `hue` and set `legend=False` for the same effect.\n",
      "\n",
      "  sns.barplot(data=success_stats, x=\"ab_group\", y=\"success_rate\", palette=\"pastel\")\n"
     ]
    },
    {
     "data": {
      "image/png": "[encoded data removed]",
      "text/plain": [
       "<Figure size 600x400 with 1 Axes>"
      ]
     },
     "metadata": {},
     "output_type": "display_data"
    }
   ],
   "source": [
    "# Bu oranı görselleştirelim:\n",
    "\n",
    "success_stats.reset_index(inplace=True)\n",
    "\n",
    "plt.figure(figsize=(6,4))\n",
    "sns.barplot(data=success_stats, x=\"ab_group\", y=\"success_rate\", palette=\"pastel\")\n",
    "plt.title(\"Success Rate by Group\")\n",
    "plt.ylabel(\"Success Rate\")\n",
    "plt.ylim(0, 1)\n",
    "plt.grid(axis='y', linestyle='--', alpha=0.3)\n",
    "plt.show()\n"
   ]
  },
  {
   "cell_type": "markdown",
   "id": "6cf57f22",
   "metadata": {},
   "source": [
    "B grubu (+3 hamle) en yüksek başarı, C grubu (-3 hamle) en düşük başarı. Zorluk seviyesindeki artış oyuncuları zorlamış."
   ]
  },
  {
   "cell_type": "code",
   "execution_count": null,
   "id": "bb4eec71",
   "metadata": {},
   "outputs": [],
   "source": [
    "coin_spend_df = duckdb.query(\"\"\"\n",
    "    SELECT cs.user_id, cs.level, cs.try_count, cs.item, cs.spend_coin_amount, a.ab_group\n",
    "    FROM 'CoinSpend.csv' cs\n",
    "    JOIN ab_df a\n",
    "    ON cs.user_id = a.user_id\n",
    "\"\"\").df()\n"
   ]
  },
  {
   "cell_type": "code",
   "execution_count": 43,
   "id": "beb48e53",
   "metadata": {},
   "outputs": [
    {
     "data": {
      "text/html": [
       "<div>\n",
       "<style scoped>\n",
       "    .dataframe tbody tr th:only-of-type {\n",
       "        vertical-align: middle;\n",
       "    }\n",
       "\n",
       "    .dataframe tbody tr th {\n",
       "        vertical-align: top;\n",
       "    }\n",
       "\n",
       "    .dataframe thead th {\n",
       "        text-align: right;\n",
       "    }\n",
       "</style>\n",
       "<table border=\"1\" class=\"dataframe\">\n",
       "  <thead>\n",
       "    <tr style=\"text-align: right;\">\n",
       "      <th></th>\n",
       "      <th>user_id</th>\n",
       "      <th>level</th>\n",
       "      <th>try_count</th>\n",
       "      <th>item</th>\n",
       "      <th>spend_coin_amount</th>\n",
       "      <th>ab_group</th>\n",
       "    </tr>\n",
       "  </thead>\n",
       "  <tbody>\n",
       "    <tr>\n",
       "      <th>0</th>\n",
       "      <td>8275</td>\n",
       "      <td>85</td>\n",
       "      <td>12</td>\n",
       "      <td>Ego</td>\n",
       "      <td>900</td>\n",
       "      <td>B</td>\n",
       "    </tr>\n",
       "    <tr>\n",
       "      <th>1</th>\n",
       "      <td>12861</td>\n",
       "      <td>57</td>\n",
       "      <td>2</td>\n",
       "      <td>Ego</td>\n",
       "      <td>900</td>\n",
       "      <td>C</td>\n",
       "    </tr>\n",
       "    <tr>\n",
       "      <th>2</th>\n",
       "      <td>2459</td>\n",
       "      <td>76</td>\n",
       "      <td>2</td>\n",
       "      <td>Ego</td>\n",
       "      <td>900</td>\n",
       "      <td>C</td>\n",
       "    </tr>\n",
       "    <tr>\n",
       "      <th>3</th>\n",
       "      <td>8656</td>\n",
       "      <td>109</td>\n",
       "      <td>1</td>\n",
       "      <td>Booster</td>\n",
       "      <td>500</td>\n",
       "      <td>A</td>\n",
       "    </tr>\n",
       "    <tr>\n",
       "      <th>4</th>\n",
       "      <td>5653</td>\n",
       "      <td>65</td>\n",
       "      <td>6</td>\n",
       "      <td>Ego</td>\n",
       "      <td>900</td>\n",
       "      <td>C</td>\n",
       "    </tr>\n",
       "    <tr>\n",
       "      <th>...</th>\n",
       "      <td>...</td>\n",
       "      <td>...</td>\n",
       "      <td>...</td>\n",
       "      <td>...</td>\n",
       "      <td>...</td>\n",
       "      <td>...</td>\n",
       "    </tr>\n",
       "    <tr>\n",
       "      <th>59986</th>\n",
       "      <td>10323</td>\n",
       "      <td>54</td>\n",
       "      <td>2</td>\n",
       "      <td>Ego</td>\n",
       "      <td>900</td>\n",
       "      <td>A</td>\n",
       "    </tr>\n",
       "    <tr>\n",
       "      <th>59987</th>\n",
       "      <td>11275</td>\n",
       "      <td>113</td>\n",
       "      <td>2</td>\n",
       "      <td>Ego</td>\n",
       "      <td>900</td>\n",
       "      <td>B</td>\n",
       "    </tr>\n",
       "    <tr>\n",
       "      <th>59988</th>\n",
       "      <td>11275</td>\n",
       "      <td>112</td>\n",
       "      <td>2</td>\n",
       "      <td>Ego</td>\n",
       "      <td>900</td>\n",
       "      <td>B</td>\n",
       "    </tr>\n",
       "    <tr>\n",
       "      <th>59989</th>\n",
       "      <td>11275</td>\n",
       "      <td>107</td>\n",
       "      <td>2</td>\n",
       "      <td>Ego</td>\n",
       "      <td>900</td>\n",
       "      <td>B</td>\n",
       "    </tr>\n",
       "    <tr>\n",
       "      <th>59990</th>\n",
       "      <td>11275</td>\n",
       "      <td>110</td>\n",
       "      <td>2</td>\n",
       "      <td>Ego</td>\n",
       "      <td>900</td>\n",
       "      <td>B</td>\n",
       "    </tr>\n",
       "  </tbody>\n",
       "</table>\n",
       "<p>59991 rows × 6 columns</p>\n",
       "</div>"
      ],
      "text/plain": [
       "       user_id  level  try_count     item  spend_coin_amount ab_group\n",
       "0         8275     85         12      Ego                900        B\n",
       "1        12861     57          2      Ego                900        C\n",
       "2         2459     76          2      Ego                900        C\n",
       "3         8656    109          1  Booster                500        A\n",
       "4         5653     65          6      Ego                900        C\n",
       "...        ...    ...        ...      ...                ...      ...\n",
       "59986    10323     54          2      Ego                900        A\n",
       "59987    11275    113          2      Ego                900        B\n",
       "59988    11275    112          2      Ego                900        B\n",
       "59989    11275    107          2      Ego                900        B\n",
       "59990    11275    110          2      Ego                900        B\n",
       "\n",
       "[59991 rows x 6 columns]"
      ]
     },
     "execution_count": 43,
     "metadata": {},
     "output_type": "execute_result"
    }
   ],
   "source": [
    "coin_spend_df"
   ]
  },
  {
   "cell_type": "code",
   "execution_count": 47,
   "id": "9b212458",
   "metadata": {},
   "outputs": [
    {
     "data": {
      "text/plain": [
       "ab_group\n",
       "A    19143200\n",
       "B    15644350\n",
       "C    20917950\n",
       "Name: spend_coin_amount, dtype: int64"
      ]
     },
     "execution_count": 47,
     "metadata": {},
     "output_type": "execute_result"
    }
   ],
   "source": [
    "coin_spend_df.groupby(\"ab_group\")[\"spend_coin_amount\"].sum() # toplam harcama"
   ]
  },
  {
   "cell_type": "code",
   "execution_count": 48,
   "id": "936ec24d",
   "metadata": {},
   "outputs": [
    {
     "data": {
      "text/plain": [
       "ab_group\n",
       "A    932.631784\n",
       "B    938.585913\n",
       "C    917.574681\n",
       "Name: spend_coin_amount, dtype: float64"
      ]
     },
     "execution_count": 48,
     "metadata": {},
     "output_type": "execute_result"
    }
   ],
   "source": [
    "coin_spend_df.groupby(\"ab_group\")[\"spend_coin_amount\"].mean() # kullanıcı başına ort. harcama\n"
   ]
  },
  {
   "cell_type": "markdown",
   "id": "655352ed",
   "metadata": {},
   "source": [
    "toplam harcamada C grubu lider olmasına rağmen kişi başı ort. harcamada B grubu lider. Bunun anlamı C grubunda (-3 hamle) daha fazla kişi daha düşük tutarda harcama yapmış, B grubunda ise daha az kişi daha fazla harcama yapmış. "
   ]
  },
  {
   "cell_type": "code",
   "execution_count": null,
   "id": "c84c6520",
   "metadata": {},
   "outputs": [
    {
     "data": {
      "text/plain": [
       "item\n",
       "Ego        51275\n",
       "Booster     6787\n",
       "Life        1929\n",
       "Name: count, dtype: int64"
      ]
     },
     "execution_count": 49,
     "metadata": {},
     "output_type": "execute_result"
    }
   ],
   "source": [
    "#En çok satılan ürün sıralamsı\n",
    "coin_spend_df[\"item\"].value_counts()\n"
   ]
  },
  {
   "cell_type": "markdown",
   "id": "fa8b22a8",
   "metadata": {},
   "source": [
    "Kullanıcılar daha çok Ego almayı tercih ediyor."
   ]
  },
  {
   "cell_type": "code",
   "execution_count": null,
   "id": "32d305bc",
   "metadata": {},
   "outputs": [
    {
     "data": {
      "text/plain": [
       "ab_group  item   \n",
       "A         Booster     1394400\n",
       "          Ego        16586000\n",
       "          Life        1162800\n",
       "B         Booster     1626950\n",
       "          Ego        12533500\n",
       "          Life        1483900\n",
       "C         Booster     1250550\n",
       "          Ego        18649000\n",
       "          Life        1018400\n",
       "Name: spend_coin_amount, dtype: int64"
      ]
     },
     "execution_count": 50,
     "metadata": {},
     "output_type": "execute_result"
    }
   ],
   "source": [
    "#Asıl grup bazlı harcamalara bakacak olursak;\n",
    "\n",
    "coin_spend_df.groupby([\"ab_group\", \"item\"])[\"spend_coin_amount\"].sum()\n"
   ]
  },
  {
   "cell_type": "markdown",
   "id": "dc07d01e",
   "metadata": {},
   "source": [
    "Ego'ya harcanan paranın diğerlerinden daha fazla olduğunu görüyoruz. C (-3 hamle) grubu oyuncuları yeni can almak yerine Ego'dan yardım almayı tercih etmiş. Oyuncular etkili çözüm olarak Ego'yu görüyorlar. "
   ]
  },
  {
   "cell_type": "code",
   "execution_count": 83,
   "id": "8bc74919",
   "metadata": {},
   "outputs": [
    {
     "data": {
      "image/png": "[encoded data removed]",
      "text/plain": [
       "<Figure size 800x500 with 1 Axes>"
      ]
     },
     "metadata": {},
     "output_type": "display_data"
    }
   ],
   "source": [
    "item_pivot = coin_spend_df.groupby([\"ab_group\", \"item\"])[\"spend_coin_amount\"].sum().reset_index()\n",
    "\n",
    "plt.figure(figsize=(8,5))\n",
    "sns.barplot(data=item_pivot, x=\"ab_group\", y=\"spend_coin_amount\", hue=\"item\", palette=\"Set3\")\n",
    "plt.title(\"Item Spend by groups\")\n",
    "plt.ylabel(\"Total Spend\")\n",
    "plt.legend(title=\"Item\")\n",
    "plt.grid(axis='y', linestyle='--', alpha=0.3)\n",
    "plt.show()\n"
   ]
  },
  {
   "cell_type": "code",
   "execution_count": null,
   "id": "74c478f3",
   "metadata": {},
   "outputs": [],
   "source": [
    "session_df = duckdb.query(\"\"\"\n",
    "    SELECT s.user_id, s.session_num, s.time_spent, a.ab_group\n",
    "    FROM 'Session.csv' s\n",
    "    JOIN ab_df a\n",
    "    ON s.user_id = a.user_id\n",
    "\"\"\").df()\n"
   ]
  },
  {
   "cell_type": "code",
   "execution_count": 53,
   "id": "e57b6370",
   "metadata": {},
   "outputs": [
    {
     "data": {
      "text/html": [
       "<div>\n",
       "<style scoped>\n",
       "    .dataframe tbody tr th:only-of-type {\n",
       "        vertical-align: middle;\n",
       "    }\n",
       "\n",
       "    .dataframe tbody tr th {\n",
       "        vertical-align: top;\n",
       "    }\n",
       "\n",
       "    .dataframe thead th {\n",
       "        text-align: right;\n",
       "    }\n",
       "</style>\n",
       "<table border=\"1\" class=\"dataframe\">\n",
       "  <thead>\n",
       "    <tr style=\"text-align: right;\">\n",
       "      <th></th>\n",
       "      <th>user_id</th>\n",
       "      <th>session_num</th>\n",
       "      <th>time_spent</th>\n",
       "      <th>ab_group</th>\n",
       "    </tr>\n",
       "  </thead>\n",
       "  <tbody>\n",
       "    <tr>\n",
       "      <th>0</th>\n",
       "      <td>3510</td>\n",
       "      <td>1.0</td>\n",
       "      <td>30</td>\n",
       "      <td>C</td>\n",
       "    </tr>\n",
       "    <tr>\n",
       "      <th>1</th>\n",
       "      <td>3510</td>\n",
       "      <td>1.0</td>\n",
       "      <td>30</td>\n",
       "      <td>C</td>\n",
       "    </tr>\n",
       "    <tr>\n",
       "      <th>2</th>\n",
       "      <td>3510</td>\n",
       "      <td>1.0</td>\n",
       "      <td>30</td>\n",
       "      <td>C</td>\n",
       "    </tr>\n",
       "    <tr>\n",
       "      <th>3</th>\n",
       "      <td>3510</td>\n",
       "      <td>1.0</td>\n",
       "      <td>30</td>\n",
       "      <td>C</td>\n",
       "    </tr>\n",
       "    <tr>\n",
       "      <th>4</th>\n",
       "      <td>3636</td>\n",
       "      <td>1.0</td>\n",
       "      <td>30</td>\n",
       "      <td>B</td>\n",
       "    </tr>\n",
       "    <tr>\n",
       "      <th>...</th>\n",
       "      <td>...</td>\n",
       "      <td>...</td>\n",
       "      <td>...</td>\n",
       "      <td>...</td>\n",
       "    </tr>\n",
       "    <tr>\n",
       "      <th>4251841</th>\n",
       "      <td>3419</td>\n",
       "      <td>11.0</td>\n",
       "      <td>31</td>\n",
       "      <td>A</td>\n",
       "    </tr>\n",
       "    <tr>\n",
       "      <th>4251842</th>\n",
       "      <td>3419</td>\n",
       "      <td>11.0</td>\n",
       "      <td>30</td>\n",
       "      <td>A</td>\n",
       "    </tr>\n",
       "    <tr>\n",
       "      <th>4251843</th>\n",
       "      <td>3419</td>\n",
       "      <td>11.0</td>\n",
       "      <td>30</td>\n",
       "      <td>A</td>\n",
       "    </tr>\n",
       "    <tr>\n",
       "      <th>4251844</th>\n",
       "      <td>3419</td>\n",
       "      <td>11.0</td>\n",
       "      <td>30</td>\n",
       "      <td>A</td>\n",
       "    </tr>\n",
       "    <tr>\n",
       "      <th>4251845</th>\n",
       "      <td>8474</td>\n",
       "      <td>11.0</td>\n",
       "      <td>30</td>\n",
       "      <td>B</td>\n",
       "    </tr>\n",
       "  </tbody>\n",
       "</table>\n",
       "<p>4251846 rows × 4 columns</p>\n",
       "</div>"
      ],
      "text/plain": [
       "         user_id  session_num  time_spent ab_group\n",
       "0           3510          1.0          30        C\n",
       "1           3510          1.0          30        C\n",
       "2           3510          1.0          30        C\n",
       "3           3510          1.0          30        C\n",
       "4           3636          1.0          30        B\n",
       "...          ...          ...         ...      ...\n",
       "4251841     3419         11.0          31        A\n",
       "4251842     3419         11.0          30        A\n",
       "4251843     3419         11.0          30        A\n",
       "4251844     3419         11.0          30        A\n",
       "4251845     8474         11.0          30        B\n",
       "\n",
       "[4251846 rows x 4 columns]"
      ]
     },
     "execution_count": 53,
     "metadata": {},
     "output_type": "execute_result"
    }
   ],
   "source": [
    "session_df"
   ]
  },
  {
   "cell_type": "markdown",
   "id": "1e767756",
   "metadata": {},
   "source": [
    "kullanıcılara ait aynı oturumda aynı sürelerde kayıtlar var. Bunları birleştirelim ve öyle devam edelim:"
   ]
  },
  {
   "cell_type": "code",
   "execution_count": 58,
   "id": "5206c6d2",
   "metadata": {},
   "outputs": [],
   "source": [
    "session_total = session_df.groupby([\"user_id\", \"session_num\", \"ab_group\"])[\"time_spent\"].sum().reset_index()\n"
   ]
  },
  {
   "cell_type": "code",
   "execution_count": 59,
   "id": "7254897a",
   "metadata": {},
   "outputs": [
    {
     "data": {
      "text/html": [
       "<div>\n",
       "<style scoped>\n",
       "    .dataframe tbody tr th:only-of-type {\n",
       "        vertical-align: middle;\n",
       "    }\n",
       "\n",
       "    .dataframe tbody tr th {\n",
       "        vertical-align: top;\n",
       "    }\n",
       "\n",
       "    .dataframe thead th {\n",
       "        text-align: right;\n",
       "    }\n",
       "</style>\n",
       "<table border=\"1\" class=\"dataframe\">\n",
       "  <thead>\n",
       "    <tr style=\"text-align: right;\">\n",
       "      <th></th>\n",
       "      <th>user_id</th>\n",
       "      <th>session_num</th>\n",
       "      <th>ab_group</th>\n",
       "      <th>time_spent</th>\n",
       "    </tr>\n",
       "  </thead>\n",
       "  <tbody>\n",
       "    <tr>\n",
       "      <th>0</th>\n",
       "      <td>1</td>\n",
       "      <td>2.0</td>\n",
       "      <td>B</td>\n",
       "      <td>8</td>\n",
       "    </tr>\n",
       "    <tr>\n",
       "      <th>1</th>\n",
       "      <td>1</td>\n",
       "      <td>3.0</td>\n",
       "      <td>B</td>\n",
       "      <td>6</td>\n",
       "    </tr>\n",
       "    <tr>\n",
       "      <th>2</th>\n",
       "      <td>2</td>\n",
       "      <td>1.0</td>\n",
       "      <td>B</td>\n",
       "      <td>2696</td>\n",
       "    </tr>\n",
       "    <tr>\n",
       "      <th>3</th>\n",
       "      <td>2</td>\n",
       "      <td>2.0</td>\n",
       "      <td>B</td>\n",
       "      <td>3956</td>\n",
       "    </tr>\n",
       "    <tr>\n",
       "      <th>4</th>\n",
       "      <td>2</td>\n",
       "      <td>3.0</td>\n",
       "      <td>B</td>\n",
       "      <td>2085</td>\n",
       "    </tr>\n",
       "    <tr>\n",
       "      <th>...</th>\n",
       "      <td>...</td>\n",
       "      <td>...</td>\n",
       "      <td>...</td>\n",
       "      <td>...</td>\n",
       "    </tr>\n",
       "    <tr>\n",
       "      <th>81613</th>\n",
       "      <td>13321</td>\n",
       "      <td>3.0</td>\n",
       "      <td>A</td>\n",
       "      <td>5810</td>\n",
       "    </tr>\n",
       "    <tr>\n",
       "      <th>81614</th>\n",
       "      <td>13321</td>\n",
       "      <td>4.0</td>\n",
       "      <td>A</td>\n",
       "      <td>417</td>\n",
       "    </tr>\n",
       "    <tr>\n",
       "      <th>81615</th>\n",
       "      <td>13321</td>\n",
       "      <td>5.0</td>\n",
       "      <td>A</td>\n",
       "      <td>2084</td>\n",
       "    </tr>\n",
       "    <tr>\n",
       "      <th>81616</th>\n",
       "      <td>13322</td>\n",
       "      <td>1.0</td>\n",
       "      <td>B</td>\n",
       "      <td>218</td>\n",
       "    </tr>\n",
       "    <tr>\n",
       "      <th>81617</th>\n",
       "      <td>13323</td>\n",
       "      <td>1.0</td>\n",
       "      <td>C</td>\n",
       "      <td>99</td>\n",
       "    </tr>\n",
       "  </tbody>\n",
       "</table>\n",
       "<p>81618 rows × 4 columns</p>\n",
       "</div>"
      ],
      "text/plain": [
       "       user_id  session_num ab_group  time_spent\n",
       "0            1          2.0        B           8\n",
       "1            1          3.0        B           6\n",
       "2            2          1.0        B        2696\n",
       "3            2          2.0        B        3956\n",
       "4            2          3.0        B        2085\n",
       "...        ...          ...      ...         ...\n",
       "81613    13321          3.0        A        5810\n",
       "81614    13321          4.0        A         417\n",
       "81615    13321          5.0        A        2084\n",
       "81616    13322          1.0        B         218\n",
       "81617    13323          1.0        C          99\n",
       "\n",
       "[81618 rows x 4 columns]"
      ]
     },
     "execution_count": 59,
     "metadata": {},
     "output_type": "execute_result"
    }
   ],
   "source": [
    "session_total"
   ]
  },
  {
   "cell_type": "code",
   "execution_count": 60,
   "id": "1e3c2445",
   "metadata": {},
   "outputs": [
    {
     "data": {
      "text/plain": [
       "ab_group\n",
       "A    1536.564596\n",
       "B    1599.238364\n",
       "C    1419.205112\n",
       "Name: time_spent, dtype: float64"
      ]
     },
     "execution_count": 60,
     "metadata": {},
     "output_type": "execute_result"
    }
   ],
   "source": [
    "session_total.groupby(\"ab_group\")[\"time_spent\"].mean()\n"
   ]
  },
  {
   "cell_type": "markdown",
   "id": "3fab8598",
   "metadata": {},
   "source": [
    "B Grubu (+3 hamle) oyuncuları en uzun süre oyunda kalmış. Bu grup daha az zorlanıyor ve daha keyif alıyor olabilir. C grubuna bakarsak, zorluk artışı, kullanıcıların oyunda kalma süresini azaltmış."
   ]
  },
  {
   "cell_type": "code",
   "execution_count": 81,
   "id": "624bb19e",
   "metadata": {},
   "outputs": [
    {
     "name": "stderr",
     "output_type": "stream",
     "text": [
      "/var/folders/k0/jmg45zjj0mb280sfvmx9fn8c0000gn/T/ipykernel_21842/2654854719.py:4: FutureWarning: \n",
      "\n",
      "Passing `palette` without assigning `hue` is deprecated and will be removed in v0.14.0. Assign the `x` variable to `hue` and set `legend=False` for the same effect.\n",
      "\n",
      "  sns.barplot(data=session_avg_time, x=\"ab_group\", y=\"time_spent\", palette=\"Set2\")\n"
     ]
    },
    {
     "data": {
      "image/png": "[encoded data removed]",
      "text/plain": [
       "<Figure size 600x400 with 1 Axes>"
      ]
     },
     "metadata": {},
     "output_type": "display_data"
    }
   ],
   "source": [
    "session_avg_time = session_total.groupby(\"ab_group\")[\"time_spent\"].mean().reset_index()\n",
    "\n",
    "plt.figure(figsize=(6,4))\n",
    "sns.barplot(data=session_avg_time, x=\"ab_group\", y=\"time_spent\", palette=\"Set2\")\n",
    "plt.title(\"Average Session Time by Group\")\n",
    "plt.ylabel(\"Session Time\")\n",
    "plt.grid(axis='y', linestyle='--', alpha=0.3)\n",
    "plt.show()\n"
   ]
  },
  {
   "cell_type": "code",
   "execution_count": 61,
   "id": "d650aaae",
   "metadata": {},
   "outputs": [
    {
     "data": {
      "text/plain": [
       "ab_group\n",
       "A    27076\n",
       "B    25826\n",
       "C    28716\n",
       "Name: session_num, dtype: int64"
      ]
     },
     "execution_count": 61,
     "metadata": {},
     "output_type": "execute_result"
    }
   ],
   "source": [
    "session_total.groupby(\"ab_group\")[\"session_num\"].count()\n"
   ]
  },
  {
   "cell_type": "code",
   "execution_count": null,
   "id": "06c9cb3f",
   "metadata": {},
   "outputs": [],
   "source": [
    "level_start_df = duckdb.query(\"\"\"\n",
    "    SELECT ls.user_id, ls.level, ls.try_count, a.ab_group\n",
    "    FROM 'LevelStart.csv' ls\n",
    "    JOIN ab_df a\n",
    "    ON ls.user_id = a.user_id\n",
    "\"\"\").df()\n"
   ]
  },
  {
   "cell_type": "code",
   "execution_count": 64,
   "id": "24fdbd65",
   "metadata": {},
   "outputs": [
    {
     "data": {
      "text/html": [
       "<div>\n",
       "<style scoped>\n",
       "    .dataframe tbody tr th:only-of-type {\n",
       "        vertical-align: middle;\n",
       "    }\n",
       "\n",
       "    .dataframe tbody tr th {\n",
       "        vertical-align: top;\n",
       "    }\n",
       "\n",
       "    .dataframe thead th {\n",
       "        text-align: right;\n",
       "    }\n",
       "</style>\n",
       "<table border=\"1\" class=\"dataframe\">\n",
       "  <thead>\n",
       "    <tr style=\"text-align: right;\">\n",
       "      <th></th>\n",
       "      <th>user_id</th>\n",
       "      <th>level</th>\n",
       "      <th>try_count</th>\n",
       "      <th>ab_group</th>\n",
       "    </tr>\n",
       "  </thead>\n",
       "  <tbody>\n",
       "    <tr>\n",
       "      <th>0</th>\n",
       "      <td>6455</td>\n",
       "      <td>139</td>\n",
       "      <td>3</td>\n",
       "      <td>B</td>\n",
       "    </tr>\n",
       "    <tr>\n",
       "      <th>1</th>\n",
       "      <td>6455</td>\n",
       "      <td>146</td>\n",
       "      <td>2</td>\n",
       "      <td>B</td>\n",
       "    </tr>\n",
       "    <tr>\n",
       "      <th>2</th>\n",
       "      <td>6455</td>\n",
       "      <td>128</td>\n",
       "      <td>1</td>\n",
       "      <td>B</td>\n",
       "    </tr>\n",
       "    <tr>\n",
       "      <th>3</th>\n",
       "      <td>6455</td>\n",
       "      <td>141</td>\n",
       "      <td>1</td>\n",
       "      <td>B</td>\n",
       "    </tr>\n",
       "    <tr>\n",
       "      <th>4</th>\n",
       "      <td>6455</td>\n",
       "      <td>133</td>\n",
       "      <td>1</td>\n",
       "      <td>B</td>\n",
       "    </tr>\n",
       "    <tr>\n",
       "      <th>...</th>\n",
       "      <td>...</td>\n",
       "      <td>...</td>\n",
       "      <td>...</td>\n",
       "      <td>...</td>\n",
       "    </tr>\n",
       "    <tr>\n",
       "      <th>1112962</th>\n",
       "      <td>440</td>\n",
       "      <td>53</td>\n",
       "      <td>1</td>\n",
       "      <td>B</td>\n",
       "    </tr>\n",
       "    <tr>\n",
       "      <th>1112963</th>\n",
       "      <td>4473</td>\n",
       "      <td>53</td>\n",
       "      <td>1</td>\n",
       "      <td>A</td>\n",
       "    </tr>\n",
       "    <tr>\n",
       "      <th>1112964</th>\n",
       "      <td>9399</td>\n",
       "      <td>53</td>\n",
       "      <td>1</td>\n",
       "      <td>C</td>\n",
       "    </tr>\n",
       "    <tr>\n",
       "      <th>1112965</th>\n",
       "      <td>4060</td>\n",
       "      <td>53</td>\n",
       "      <td>1</td>\n",
       "      <td>A</td>\n",
       "    </tr>\n",
       "    <tr>\n",
       "      <th>1112966</th>\n",
       "      <td>3918</td>\n",
       "      <td>53</td>\n",
       "      <td>1</td>\n",
       "      <td>A</td>\n",
       "    </tr>\n",
       "  </tbody>\n",
       "</table>\n",
       "<p>1112967 rows × 4 columns</p>\n",
       "</div>"
      ],
      "text/plain": [
       "         user_id  level  try_count ab_group\n",
       "0           6455    139          3        B\n",
       "1           6455    146          2        B\n",
       "2           6455    128          1        B\n",
       "3           6455    141          1        B\n",
       "4           6455    133          1        B\n",
       "...          ...    ...        ...      ...\n",
       "1112962      440     53          1        B\n",
       "1112963     4473     53          1        A\n",
       "1112964     9399     53          1        C\n",
       "1112965     4060     53          1        A\n",
       "1112966     3918     53          1        A\n",
       "\n",
       "[1112967 rows x 4 columns]"
      ]
     },
     "execution_count": 64,
     "metadata": {},
     "output_type": "execute_result"
    }
   ],
   "source": [
    "level_start_df"
   ]
  },
  {
   "cell_type": "code",
   "execution_count": null,
   "id": "db801191",
   "metadata": {},
   "outputs": [
    {
     "data": {
      "text/plain": [
       "ab_group\n",
       "A    2391\n",
       "B    1026\n",
       "C    7760\n",
       "Name: user_id, dtype: int64"
      ]
     },
     "execution_count": 65,
     "metadata": {},
     "output_type": "execute_result"
    }
   ],
   "source": [
    "# Bir leveli 10 kereden fazla deneyen kullanıcıların sayısı\n",
    "level_start_df[level_start_df[\"try_count\"] > 10].groupby(\"ab_group\")[\"user_id\"].count()\n"
   ]
  },
  {
   "cell_type": "markdown",
   "id": "f633212e",
   "metadata": {},
   "source": [
    "(-3) hamle verilen C grubu zorlandığı için bir leveli 10 kereden fazla denediği bile oluyor. Ort try countların açık ara en fazla oldugu grup C grubu."
   ]
  },
  {
   "cell_type": "code",
   "execution_count": null,
   "id": "104403a4",
   "metadata": {},
   "outputs": [
    {
     "data": {
      "text/plain": [
       "ab_group\n",
       "A    1.398342\n",
       "B    1.202179\n",
       "C    2.168214\n",
       "Name: try_count, dtype: float64"
      ]
     },
     "execution_count": 68,
     "metadata": {},
     "output_type": "execute_result"
    }
   ],
   "source": [
    "# Grupların Ortalama deneme sayısı\n",
    "level_start_df.groupby(\"ab_group\")[\"try_count\"].mean()"
   ]
  },
  {
   "cell_type": "code",
   "execution_count": 71,
   "id": "3fa9bb21",
   "metadata": {},
   "outputs": [
    {
     "data": {
      "text/plain": [
       "level\n",
       "90     8.127574\n",
       "64     5.897102\n",
       "108    5.178218\n",
       "124    5.042805\n",
       "97     3.279066\n",
       "116    3.094807\n",
       "87     2.944274\n",
       "168    2.931080\n",
       "178    2.925247\n",
       "188    2.790731\n",
       "Name: try_count, dtype: float64"
      ]
     },
     "execution_count": 71,
     "metadata": {},
     "output_type": "execute_result"
    }
   ],
   "source": [
    "# ortalama deneme sayısı ortalaması en yüksek 10 level (yani zorluğu yüksek 10 level)\n",
    "level_start_df.groupby(\"level\")[\"try_count\"].mean().sort_values(ascending=False).head(10)\n"
   ]
  },
  {
   "cell_type": "code",
   "execution_count": null,
   "id": "900de46c",
   "metadata": {},
   "outputs": [],
   "source": []
  },
  {
   "cell_type": "code",
   "execution_count": null,
   "id": "a1974c24",
   "metadata": {},
   "outputs": [],
   "source": []
  },
  {
   "cell_type": "code",
   "execution_count": null,
   "id": "6e924df8",
   "metadata": {},
   "outputs": [],
   "source": []
  },
  {
   "cell_type": "code",
   "execution_count": null,
   "id": "340666e1",
   "metadata": {},
   "outputs": [],
   "source": []
  }
 ],
 "metadata": {
  "kernelspec": {
   "display_name": "base",
   "language": "python",
   "name": "python3"
  },
  "language_info": {
   "codemirror_mode": {
    "name": "ipython",
    "version": 3
   },
   "file_extension": ".py",
   "mimetype": "text/x-python",
   "name": "python",
   "nbconvert_exporter": "python",
   "pygments_lexer": "ipython3",
   "version": "3.12.4"
  }
 },
 "nbformat": 4,
 "nbformat_minor": 5
}
